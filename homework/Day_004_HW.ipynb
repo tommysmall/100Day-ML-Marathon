{
 "cells": [
  {
   "cell_type": "code",
   "execution_count": 1,
   "metadata": {
    "colab": {},
    "colab_type": "code",
    "id": "lh9gyloHVblR"
   },
   "outputs": [],
   "source": [
    "import os\n",
    "import numpy as np\n",
    "import pandas as pd"
   ]
  },
  {
   "cell_type": "code",
   "execution_count": 3,
   "metadata": {
    "colab": {},
    "colab_type": "code",
    "id": "z4iLB9cKVblV",
    "scrolled": true
   },
   "outputs": [],
   "source": [
    "# 設定 data_path, 並讀取 app_train\n",
    "dir_data = 'C:\\\\Users\\\\admin\\\\Desktop\\\\D100PDF\\\\data\\\\part1\\\\'\n",
    "f_app_train = os.path.join(dir_data, 'application_train.csv')\n",
    "app_train = pd.read_csv(f_app_train)"
   ]
  },
  {
   "cell_type": "markdown",
   "metadata": {
    "colab": {},
    "colab_type": "code",
    "collapsed": true,
    "id": "d5IeEcPVVblq"
   },
   "source": [
    "## 作業\n",
    "將下列部分資料片段 sub_train 使用 One Hot encoding, 並觀察轉換前後的欄位數量 (使用 shape) 與欄位名稱 (使用 head) 變化"
   ]
  },
  {
   "cell_type": "code",
   "execution_count": 13,
   "metadata": {
    "scrolled": true
   },
   "outputs": [
    {
     "name": "stdout",
     "output_type": "stream",
     "text": [
      "(307511, 1)\n",
      "       WEEKDAY_APPR_PROCESS_START\n",
      "0                       WEDNESDAY\n",
      "1                          MONDAY\n",
      "2                          MONDAY\n",
      "3                       WEDNESDAY\n",
      "4                        THURSDAY\n",
      "5                       WEDNESDAY\n",
      "6                          SUNDAY\n",
      "7                          MONDAY\n",
      "8                       WEDNESDAY\n",
      "9                        THURSDAY\n",
      "10                       SATURDAY\n",
      "11                         FRIDAY\n",
      "12                         FRIDAY\n",
      "13                       THURSDAY\n",
      "14                         MONDAY\n",
      "15                       SATURDAY\n",
      "16                       THURSDAY\n",
      "17                         MONDAY\n",
      "18                         FRIDAY\n",
      "19                         MONDAY\n",
      "20                         FRIDAY\n",
      "21                         MONDAY\n",
      "22                       THURSDAY\n",
      "23                         FRIDAY\n",
      "24                       THURSDAY\n",
      "25                       SATURDAY\n",
      "26                         MONDAY\n",
      "27                       SATURDAY\n",
      "28                      WEDNESDAY\n",
      "29                        TUESDAY\n",
      "...                           ...\n",
      "307481                     FRIDAY\n",
      "307482                   THURSDAY\n",
      "307483                     MONDAY\n",
      "307484                     MONDAY\n",
      "307485                   SATURDAY\n",
      "307486                   SATURDAY\n",
      "307487                  WEDNESDAY\n",
      "307488                  WEDNESDAY\n",
      "307489                     FRIDAY\n",
      "307490                   SATURDAY\n",
      "307491                   SATURDAY\n",
      "307492                     FRIDAY\n",
      "307493                     MONDAY\n",
      "307494                     MONDAY\n",
      "307495                  WEDNESDAY\n",
      "307496                   THURSDAY\n",
      "307497                   THURSDAY\n",
      "307498                     MONDAY\n",
      "307499                    TUESDAY\n",
      "307500                     FRIDAY\n",
      "307501                  WEDNESDAY\n",
      "307502                     MONDAY\n",
      "307503                   SATURDAY\n",
      "307504                  WEDNESDAY\n",
      "307505                     MONDAY\n",
      "307506                   THURSDAY\n",
      "307507                     MONDAY\n",
      "307508                   THURSDAY\n",
      "307509                  WEDNESDAY\n",
      "307510                   THURSDAY\n",
      "\n",
      "[307511 rows x 1 columns]\n"
     ]
    }
   ],
   "source": [
    "sub_train = pd.DataFrame(app_train['WEEKDAY_APPR_PROCESS_START'])\n",
    "print(sub_train.shape)\n",
    "sub_train.head()\n",
    "\n",
    "print(sub_train)"
   ]
  },
  {
   "cell_type": "code",
   "execution_count": 23,
   "metadata": {
    "scrolled": false
   },
   "outputs": [
    {
     "name": "stdout",
     "output_type": "stream",
     "text": [
      "0    0\n",
      "1    1\n",
      "2    1\n",
      "3    0\n",
      "4    0\n",
      "Name: WEEKDAY_APPR_PROCESS_START_MONDAY, dtype: uint8\n",
      "0    0\n",
      "1    0\n",
      "2    0\n",
      "3    0\n",
      "4    0\n",
      "Name: WEEKDAY_APPR_PROCESS_START_TUESDAY, dtype: uint8\n",
      "0    1\n",
      "1    0\n",
      "2    0\n",
      "3    1\n",
      "4    0\n",
      "Name: WEEKDAY_APPR_PROCESS_START_WEDNESDAY, dtype: uint8\n",
      "0    0\n",
      "1    0\n",
      "2    0\n",
      "3    0\n",
      "4    1\n",
      "Name: WEEKDAY_APPR_PROCESS_START_THURSDAY, dtype: uint8\n",
      "0    0\n",
      "1    0\n",
      "2    0\n",
      "3    0\n",
      "4    0\n",
      "Name: WEEKDAY_APPR_PROCESS_START_FRIDAY, dtype: uint8\n",
      "0    0\n",
      "1    0\n",
      "2    0\n",
      "3    0\n",
      "4    0\n",
      "Name: WEEKDAY_APPR_PROCESS_START_SATURDAY, dtype: uint8\n",
      "0    0\n",
      "1    0\n",
      "2    0\n",
      "3    0\n",
      "4    0\n",
      "Name: WEEKDAY_APPR_PROCESS_START_SUNDAY, dtype: uint8\n"
     ]
    }
   ],
   "source": [
    "print(sub_train['WEEKDAY_APPR_PROCESS_START_MONDAY'].head())\n",
    "print(sub_train['WEEKDAY_APPR_PROCESS_START_TUESDAY'].head())\n",
    "print(sub_train['WEEKDAY_APPR_PROCESS_START_WEDNESDAY'].head())\n",
    "print(sub_train['WEEKDAY_APPR_PROCESS_START_THURSDAY'].head())\n",
    "print(sub_train['WEEKDAY_APPR_PROCESS_START_FRIDAY'].head())\n",
    "print(sub_train['WEEKDAY_APPR_PROCESS_START_SATURDAY'].head())\n",
    "print(sub_train['WEEKDAY_APPR_PROCESS_START_SUNDAY'].head())"
   ]
  },
  {
   "cell_type": "code",
   "execution_count": null,
   "metadata": {},
   "outputs": [],
   "source": []
  }
 ],
 "metadata": {
  "colab": {
   "name": "Day_004_column_data_type.ipynb",
   "provenance": [],
   "version": "0.3.2"
  },
  "kernelspec": {
   "display_name": "Python 3",
   "language": "python",
   "name": "python3"
  },
  "language_info": {
   "codemirror_mode": {
    "name": "ipython",
    "version": 3
   },
   "file_extension": ".py",
   "mimetype": "text/x-python",
   "name": "python",
   "nbconvert_exporter": "python",
   "pygments_lexer": "ipython3",
   "version": "3.7.1"
  }
 },
 "nbformat": 4,
 "nbformat_minor": 1
}
